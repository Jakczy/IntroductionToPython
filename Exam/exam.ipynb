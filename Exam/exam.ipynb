{
 "cells": [
  {
   "cell_type": "markdown",
   "metadata": {},
   "source": [
    "# Exam\n",
    "\n",
    "During the exam we will analyze League of Legends match data. You will have 10 tasks to complete over `2` hours. You can use any resources you need (internet, notes, documentation), but you must complete the task alone - violation will be severly punished. To pass you need `60%` correct answers. You need to post the exam in your repository until `17:15`. If you post your answers after `17:15`, you won't be graded based on your repository notebook work and will receive a grade of `2`.\n",
    "\n",
    "### Grading\n",
    "\n",
    "| Points | Grade |\n",
    "| :-- | :-- |\n",
    "| 6 | 3 |\n",
    "| 7 | 3.5 |\n",
    "| 8 | 4 |\n",
    "| 9 | 4.5 |\n",
    "| 10 | 5 |\n",
    "\n",
    "Each task can get between `0` and `1` points. So, if you do only a couple of things correct you can get eg. `0.6` points."
   ]
  },
  {
   "cell_type": "code",
   "execution_count": 2,
   "metadata": {},
   "outputs": [],
   "source": [
    "# Your student id here\n",
    "student_id = 141037"
   ]
  },
  {
   "cell_type": "code",
   "execution_count": 3,
   "metadata": {},
   "outputs": [],
   "source": [
    "# Import libraries you will use here\n",
    "import pandas as pd\n",
    "import seaborn as sns"
   ]
  },
  {
   "cell_type": "code",
   "execution_count": 4,
   "metadata": {},
   "outputs": [],
   "source": [
    "# Set seaborn coloring"
   ]
  },
  {
   "cell_type": "markdown",
   "metadata": {},
   "source": [
    "## Task 1\n",
    "\n",
    "`[0.4]` Import the csv file `high_diamond_ranked_10min.csv` to a variable `lol_data`. Set the index column to `gameId`. "
   ]
  },
  {
   "cell_type": "code",
   "execution_count": 5,
   "metadata": {},
   "outputs": [],
   "source": [
    "# Your code here\n",
    "lol_data = pd.read_csv(\n",
    "    'high_diamond_ranked_10min.csv',\n",
    "    index_col = 'gameId'\n",
    ")"
   ]
  },
  {
   "cell_type": "markdown",
   "metadata": {},
   "source": [
    "`[0.2]` Display random 10 rows from the dataset."
   ]
  },
  {
   "cell_type": "code",
   "execution_count": 6,
   "metadata": {},
   "outputs": [
    {
     "output_type": "execute_result",
     "data": {
      "text/plain": "            blueWins  blueWardsPlaced  blueWardsDestroyed  blueFirstBlood  \\\ngameId                                                                      \n4526352878         1               18                   3               0   \n4518722458         0               27                   4               0   \n4524439900         0               22                   3               0   \n4523577373         1               16                   2               1   \n4497173280         1               18                   2               1   \n4525208730         1               15                   3               1   \n4526832449         0               15                   3               1   \n4476398273         1               18                   4               1   \n4522596231         1               18                   2               1   \n4518376722         1               13                   1               1   \n\n            blueKills  blueDeaths  blueAssists  blueEliteMonsters  \\\ngameId                                                              \n4526352878          9          11           16                  0   \n4518722458          4           7            3                  0   \n4524439900          6           9            6                  0   \n4523577373         11           7           13                  1   \n4497173280         11           9            5                  0   \n4525208730          6           4            4                  1   \n4526832449          7           9            9                  1   \n4476398273          8           5            8                  0   \n4522596231          9           4           11                  0   \n4518376722          8           3            9                  2   \n\n            blueDragons  blueHeralds  ...  redTowersDestroyed  redTotalGold  \\\ngameId                                ...                                     \n4526352878            0            0  ...                   0         18856   \n4518722458            0            0  ...                   0         17481   \n4524439900            0            0  ...                   0         17756   \n4523577373            0            1  ...                   0         15886   \n4497173280            0            0  ...                   0         16989   \n4525208730            1            0  ...                   0         15494   \n4526832449            0            1  ...                   0         17789   \n4476398273            0            0  ...                   0         16109   \n4522596231            0            0  ...                   0         14551   \n4518376722            1            1  ...                   0         15294   \n\n            redAvgLevel  redTotalExperience  redTotalMinionsKilled  \\\ngameId                                                               \n4526352878          7.2               18800                    221   \n4518722458          7.6               19667                    222   \n4524439900          7.0               17751                    211   \n4523577373          6.4               15598                    165   \n4497173280          6.6               16945                    179   \n4525208730          7.0               18640                    205   \n4526832449          7.0               18103                    217   \n4476398273          6.8               17990                    215   \n4522596231          6.4               15684                    198   \n4518376722          7.0               18008                    234   \n\n            redTotalJungleMinionsKilled  redGoldDiff  redExperienceDiff  \\\ngameId                                                                    \n4526352878                           81         1682               2102   \n4518722458                           76         2749               3335   \n4524439900                           44         2560                826   \n4523577373                           40        -3611              -2847   \n4497173280                           38        -1713              -1791   \n4525208730                           50        -1151               -470   \n4526832449                           53          134               1518   \n4476398273                           49        -2666               -400   \n4522596231                           44        -5619              -3506   \n4518376722                           54        -3049              -1511   \n\n            redCSPerMin  redGoldPerMin  \ngameId                                  \n4526352878         22.1         1885.6  \n4518722458         22.2         1748.1  \n4524439900         21.1         1775.6  \n4523577373         16.5         1588.6  \n4497173280         17.9         1698.9  \n4525208730         20.5         1549.4  \n4526832449         21.7         1778.9  \n4476398273         21.5         1610.9  \n4522596231         19.8         1455.1  \n4518376722         23.4         1529.4  \n\n[10 rows x 39 columns]",
      "text/html": "<div>\n<style scoped>\n    .dataframe tbody tr th:only-of-type {\n        vertical-align: middle;\n    }\n\n    .dataframe tbody tr th {\n        vertical-align: top;\n    }\n\n    .dataframe thead th {\n        text-align: right;\n    }\n</style>\n<table border=\"1\" class=\"dataframe\">\n  <thead>\n    <tr style=\"text-align: right;\">\n      <th></th>\n      <th>blueWins</th>\n      <th>blueWardsPlaced</th>\n      <th>blueWardsDestroyed</th>\n      <th>blueFirstBlood</th>\n      <th>blueKills</th>\n      <th>blueDeaths</th>\n      <th>blueAssists</th>\n      <th>blueEliteMonsters</th>\n      <th>blueDragons</th>\n      <th>blueHeralds</th>\n      <th>...</th>\n      <th>redTowersDestroyed</th>\n      <th>redTotalGold</th>\n      <th>redAvgLevel</th>\n      <th>redTotalExperience</th>\n      <th>redTotalMinionsKilled</th>\n      <th>redTotalJungleMinionsKilled</th>\n      <th>redGoldDiff</th>\n      <th>redExperienceDiff</th>\n      <th>redCSPerMin</th>\n      <th>redGoldPerMin</th>\n    </tr>\n    <tr>\n      <th>gameId</th>\n      <th></th>\n      <th></th>\n      <th></th>\n      <th></th>\n      <th></th>\n      <th></th>\n      <th></th>\n      <th></th>\n      <th></th>\n      <th></th>\n      <th></th>\n      <th></th>\n      <th></th>\n      <th></th>\n      <th></th>\n      <th></th>\n      <th></th>\n      <th></th>\n      <th></th>\n      <th></th>\n      <th></th>\n    </tr>\n  </thead>\n  <tbody>\n    <tr>\n      <th>4526352878</th>\n      <td>1</td>\n      <td>18</td>\n      <td>3</td>\n      <td>0</td>\n      <td>9</td>\n      <td>11</td>\n      <td>16</td>\n      <td>0</td>\n      <td>0</td>\n      <td>0</td>\n      <td>...</td>\n      <td>0</td>\n      <td>18856</td>\n      <td>7.2</td>\n      <td>18800</td>\n      <td>221</td>\n      <td>81</td>\n      <td>1682</td>\n      <td>2102</td>\n      <td>22.1</td>\n      <td>1885.6</td>\n    </tr>\n    <tr>\n      <th>4518722458</th>\n      <td>0</td>\n      <td>27</td>\n      <td>4</td>\n      <td>0</td>\n      <td>4</td>\n      <td>7</td>\n      <td>3</td>\n      <td>0</td>\n      <td>0</td>\n      <td>0</td>\n      <td>...</td>\n      <td>0</td>\n      <td>17481</td>\n      <td>7.6</td>\n      <td>19667</td>\n      <td>222</td>\n      <td>76</td>\n      <td>2749</td>\n      <td>3335</td>\n      <td>22.2</td>\n      <td>1748.1</td>\n    </tr>\n    <tr>\n      <th>4524439900</th>\n      <td>0</td>\n      <td>22</td>\n      <td>3</td>\n      <td>0</td>\n      <td>6</td>\n      <td>9</td>\n      <td>6</td>\n      <td>0</td>\n      <td>0</td>\n      <td>0</td>\n      <td>...</td>\n      <td>0</td>\n      <td>17756</td>\n      <td>7.0</td>\n      <td>17751</td>\n      <td>211</td>\n      <td>44</td>\n      <td>2560</td>\n      <td>826</td>\n      <td>21.1</td>\n      <td>1775.6</td>\n    </tr>\n    <tr>\n      <th>4523577373</th>\n      <td>1</td>\n      <td>16</td>\n      <td>2</td>\n      <td>1</td>\n      <td>11</td>\n      <td>7</td>\n      <td>13</td>\n      <td>1</td>\n      <td>0</td>\n      <td>1</td>\n      <td>...</td>\n      <td>0</td>\n      <td>15886</td>\n      <td>6.4</td>\n      <td>15598</td>\n      <td>165</td>\n      <td>40</td>\n      <td>-3611</td>\n      <td>-2847</td>\n      <td>16.5</td>\n      <td>1588.6</td>\n    </tr>\n    <tr>\n      <th>4497173280</th>\n      <td>1</td>\n      <td>18</td>\n      <td>2</td>\n      <td>1</td>\n      <td>11</td>\n      <td>9</td>\n      <td>5</td>\n      <td>0</td>\n      <td>0</td>\n      <td>0</td>\n      <td>...</td>\n      <td>0</td>\n      <td>16989</td>\n      <td>6.6</td>\n      <td>16945</td>\n      <td>179</td>\n      <td>38</td>\n      <td>-1713</td>\n      <td>-1791</td>\n      <td>17.9</td>\n      <td>1698.9</td>\n    </tr>\n    <tr>\n      <th>4525208730</th>\n      <td>1</td>\n      <td>15</td>\n      <td>3</td>\n      <td>1</td>\n      <td>6</td>\n      <td>4</td>\n      <td>4</td>\n      <td>1</td>\n      <td>1</td>\n      <td>0</td>\n      <td>...</td>\n      <td>0</td>\n      <td>15494</td>\n      <td>7.0</td>\n      <td>18640</td>\n      <td>205</td>\n      <td>50</td>\n      <td>-1151</td>\n      <td>-470</td>\n      <td>20.5</td>\n      <td>1549.4</td>\n    </tr>\n    <tr>\n      <th>4526832449</th>\n      <td>0</td>\n      <td>15</td>\n      <td>3</td>\n      <td>1</td>\n      <td>7</td>\n      <td>9</td>\n      <td>9</td>\n      <td>1</td>\n      <td>0</td>\n      <td>1</td>\n      <td>...</td>\n      <td>0</td>\n      <td>17789</td>\n      <td>7.0</td>\n      <td>18103</td>\n      <td>217</td>\n      <td>53</td>\n      <td>134</td>\n      <td>1518</td>\n      <td>21.7</td>\n      <td>1778.9</td>\n    </tr>\n    <tr>\n      <th>4476398273</th>\n      <td>1</td>\n      <td>18</td>\n      <td>4</td>\n      <td>1</td>\n      <td>8</td>\n      <td>5</td>\n      <td>8</td>\n      <td>0</td>\n      <td>0</td>\n      <td>0</td>\n      <td>...</td>\n      <td>0</td>\n      <td>16109</td>\n      <td>6.8</td>\n      <td>17990</td>\n      <td>215</td>\n      <td>49</td>\n      <td>-2666</td>\n      <td>-400</td>\n      <td>21.5</td>\n      <td>1610.9</td>\n    </tr>\n    <tr>\n      <th>4522596231</th>\n      <td>1</td>\n      <td>18</td>\n      <td>2</td>\n      <td>1</td>\n      <td>9</td>\n      <td>4</td>\n      <td>11</td>\n      <td>0</td>\n      <td>0</td>\n      <td>0</td>\n      <td>...</td>\n      <td>0</td>\n      <td>14551</td>\n      <td>6.4</td>\n      <td>15684</td>\n      <td>198</td>\n      <td>44</td>\n      <td>-5619</td>\n      <td>-3506</td>\n      <td>19.8</td>\n      <td>1455.1</td>\n    </tr>\n    <tr>\n      <th>4518376722</th>\n      <td>1</td>\n      <td>13</td>\n      <td>1</td>\n      <td>1</td>\n      <td>8</td>\n      <td>3</td>\n      <td>9</td>\n      <td>2</td>\n      <td>1</td>\n      <td>1</td>\n      <td>...</td>\n      <td>0</td>\n      <td>15294</td>\n      <td>7.0</td>\n      <td>18008</td>\n      <td>234</td>\n      <td>54</td>\n      <td>-3049</td>\n      <td>-1511</td>\n      <td>23.4</td>\n      <td>1529.4</td>\n    </tr>\n  </tbody>\n</table>\n<p>10 rows × 39 columns</p>\n</div>"
     },
     "metadata": {},
     "execution_count": 6
    }
   ],
   "source": [
    "# Your code here\n",
    "lol_data.sample(10)"
   ]
  },
  {
   "cell_type": "markdown",
   "metadata": {},
   "source": [
    "`[0.2]` Display the information about the dataset - columns, dtypes, etc."
   ]
  },
  {
   "cell_type": "code",
   "execution_count": 7,
   "metadata": {
    "tags": []
   },
   "outputs": [
    {
     "output_type": "execute_result",
     "data": {
      "text/plain": "blueWins                          int64\nblueWardsPlaced                   int64\nblueWardsDestroyed                int64\nblueFirstBlood                    int64\nblueKills                         int64\nblueDeaths                        int64\nblueAssists                       int64\nblueEliteMonsters                 int64\nblueDragons                       int64\nblueHeralds                       int64\nblueTowersDestroyed               int64\nblueTotalGold                     int64\nblueAvgLevel                    float64\nblueTotalExperience               int64\nblueTotalMinionsKilled            int64\nblueTotalJungleMinionsKilled      int64\nblueGoldDiff                      int64\nblueExperienceDiff                int64\nblueCSPerMin                    float64\nblueGoldPerMin                  float64\nredWardsPlaced                    int64\nredWardsDestroyed                 int64\nredFirstBlood                     int64\nredKills                          int64\nredDeaths                         int64\nredAssists                        int64\nredEliteMonsters                  int64\nredDragons                        int64\nredHeralds                        int64\nredTowersDestroyed                int64\nredTotalGold                      int64\nredAvgLevel                     float64\nredTotalExperience                int64\nredTotalMinionsKilled             int64\nredTotalJungleMinionsKilled       int64\nredGoldDiff                       int64\nredExperienceDiff                 int64\nredCSPerMin                     float64\nredGoldPerMin                   float64\ndtype: object"
     },
     "metadata": {},
     "execution_count": 7
    }
   ],
   "source": [
    "# Your code here\n",
    "lol_data.dtypes"
   ]
  },
  {
   "cell_type": "markdown",
   "metadata": {},
   "source": [
    "`[0.2]` Display statistical information about the dataset - mean, quartiles, etc."
   ]
  },
  {
   "cell_type": "code",
   "execution_count": 8,
   "metadata": {},
   "outputs": [
    {
     "output_type": "execute_result",
     "data": {
      "text/plain": "          blueWins  blueWardsPlaced  blueWardsDestroyed  blueFirstBlood  \\\ncount  9879.000000      9879.000000         9879.000000     9879.000000   \nmean      0.499038        22.288288            2.824881        0.504808   \nstd       0.500024        18.019177            2.174998        0.500002   \nmin       0.000000         5.000000            0.000000        0.000000   \n25%       0.000000        14.000000            1.000000        0.000000   \n50%       0.000000        16.000000            3.000000        1.000000   \n75%       1.000000        20.000000            4.000000        1.000000   \nmax       1.000000       250.000000           27.000000        1.000000   \n\n         blueKills   blueDeaths  blueAssists  blueEliteMonsters  blueDragons  \\\ncount  9879.000000  9879.000000  9879.000000        9879.000000  9879.000000   \nmean      6.183925     6.137666     6.645106           0.549954     0.361980   \nstd       3.011028     2.933818     4.064520           0.625527     0.480597   \nmin       0.000000     0.000000     0.000000           0.000000     0.000000   \n25%       4.000000     4.000000     4.000000           0.000000     0.000000   \n50%       6.000000     6.000000     6.000000           0.000000     0.000000   \n75%       8.000000     8.000000     9.000000           1.000000     1.000000   \nmax      22.000000    22.000000    29.000000           2.000000     1.000000   \n\n       blueHeralds  ...  redTowersDestroyed  redTotalGold  redAvgLevel  \\\ncount  9879.000000  ...         9879.000000   9879.000000  9879.000000   \nmean      0.187974  ...            0.043021  16489.041401     6.925316   \nstd       0.390712  ...            0.216900   1490.888406     0.305311   \nmin       0.000000  ...            0.000000  11212.000000     4.800000   \n25%       0.000000  ...            0.000000  15427.500000     6.800000   \n50%       0.000000  ...            0.000000  16378.000000     7.000000   \n75%       0.000000  ...            0.000000  17418.500000     7.200000   \nmax       1.000000  ...            2.000000  22732.000000     8.200000   \n\n       redTotalExperience  redTotalMinionsKilled  redTotalJungleMinionsKilled  \\\ncount         9879.000000            9879.000000                  9879.000000   \nmean         17961.730438             217.349226                    51.313088   \nstd           1198.583912              21.911668                    10.027885   \nmin          10465.000000             107.000000                     4.000000   \n25%          17209.500000             203.000000                    44.000000   \n50%          17974.000000             218.000000                    51.000000   \n75%          18764.500000             233.000000                    57.000000   \nmax          22269.000000             289.000000                    92.000000   \n\n        redGoldDiff  redExperienceDiff  redCSPerMin  redGoldPerMin  \ncount   9879.000000        9879.000000  9879.000000    9879.000000  \nmean     -14.414111          33.620306    21.734923    1648.904140  \nstd     2453.349179        1920.370438     2.191167     149.088841  \nmin   -11467.000000       -8348.000000    10.700000    1121.200000  \n25%    -1596.000000       -1212.000000    20.300000    1542.750000  \n50%      -14.000000          28.000000    21.800000    1637.800000  \n75%     1585.500000        1290.500000    23.300000    1741.850000  \nmax    10830.000000        9333.000000    28.900000    2273.200000  \n\n[8 rows x 39 columns]",
      "text/html": "<div>\n<style scoped>\n    .dataframe tbody tr th:only-of-type {\n        vertical-align: middle;\n    }\n\n    .dataframe tbody tr th {\n        vertical-align: top;\n    }\n\n    .dataframe thead th {\n        text-align: right;\n    }\n</style>\n<table border=\"1\" class=\"dataframe\">\n  <thead>\n    <tr style=\"text-align: right;\">\n      <th></th>\n      <th>blueWins</th>\n      <th>blueWardsPlaced</th>\n      <th>blueWardsDestroyed</th>\n      <th>blueFirstBlood</th>\n      <th>blueKills</th>\n      <th>blueDeaths</th>\n      <th>blueAssists</th>\n      <th>blueEliteMonsters</th>\n      <th>blueDragons</th>\n      <th>blueHeralds</th>\n      <th>...</th>\n      <th>redTowersDestroyed</th>\n      <th>redTotalGold</th>\n      <th>redAvgLevel</th>\n      <th>redTotalExperience</th>\n      <th>redTotalMinionsKilled</th>\n      <th>redTotalJungleMinionsKilled</th>\n      <th>redGoldDiff</th>\n      <th>redExperienceDiff</th>\n      <th>redCSPerMin</th>\n      <th>redGoldPerMin</th>\n    </tr>\n  </thead>\n  <tbody>\n    <tr>\n      <th>count</th>\n      <td>9879.000000</td>\n      <td>9879.000000</td>\n      <td>9879.000000</td>\n      <td>9879.000000</td>\n      <td>9879.000000</td>\n      <td>9879.000000</td>\n      <td>9879.000000</td>\n      <td>9879.000000</td>\n      <td>9879.000000</td>\n      <td>9879.000000</td>\n      <td>...</td>\n      <td>9879.000000</td>\n      <td>9879.000000</td>\n      <td>9879.000000</td>\n      <td>9879.000000</td>\n      <td>9879.000000</td>\n      <td>9879.000000</td>\n      <td>9879.000000</td>\n      <td>9879.000000</td>\n      <td>9879.000000</td>\n      <td>9879.000000</td>\n    </tr>\n    <tr>\n      <th>mean</th>\n      <td>0.499038</td>\n      <td>22.288288</td>\n      <td>2.824881</td>\n      <td>0.504808</td>\n      <td>6.183925</td>\n      <td>6.137666</td>\n      <td>6.645106</td>\n      <td>0.549954</td>\n      <td>0.361980</td>\n      <td>0.187974</td>\n      <td>...</td>\n      <td>0.043021</td>\n      <td>16489.041401</td>\n      <td>6.925316</td>\n      <td>17961.730438</td>\n      <td>217.349226</td>\n      <td>51.313088</td>\n      <td>-14.414111</td>\n      <td>33.620306</td>\n      <td>21.734923</td>\n      <td>1648.904140</td>\n    </tr>\n    <tr>\n      <th>std</th>\n      <td>0.500024</td>\n      <td>18.019177</td>\n      <td>2.174998</td>\n      <td>0.500002</td>\n      <td>3.011028</td>\n      <td>2.933818</td>\n      <td>4.064520</td>\n      <td>0.625527</td>\n      <td>0.480597</td>\n      <td>0.390712</td>\n      <td>...</td>\n      <td>0.216900</td>\n      <td>1490.888406</td>\n      <td>0.305311</td>\n      <td>1198.583912</td>\n      <td>21.911668</td>\n      <td>10.027885</td>\n      <td>2453.349179</td>\n      <td>1920.370438</td>\n      <td>2.191167</td>\n      <td>149.088841</td>\n    </tr>\n    <tr>\n      <th>min</th>\n      <td>0.000000</td>\n      <td>5.000000</td>\n      <td>0.000000</td>\n      <td>0.000000</td>\n      <td>0.000000</td>\n      <td>0.000000</td>\n      <td>0.000000</td>\n      <td>0.000000</td>\n      <td>0.000000</td>\n      <td>0.000000</td>\n      <td>...</td>\n      <td>0.000000</td>\n      <td>11212.000000</td>\n      <td>4.800000</td>\n      <td>10465.000000</td>\n      <td>107.000000</td>\n      <td>4.000000</td>\n      <td>-11467.000000</td>\n      <td>-8348.000000</td>\n      <td>10.700000</td>\n      <td>1121.200000</td>\n    </tr>\n    <tr>\n      <th>25%</th>\n      <td>0.000000</td>\n      <td>14.000000</td>\n      <td>1.000000</td>\n      <td>0.000000</td>\n      <td>4.000000</td>\n      <td>4.000000</td>\n      <td>4.000000</td>\n      <td>0.000000</td>\n      <td>0.000000</td>\n      <td>0.000000</td>\n      <td>...</td>\n      <td>0.000000</td>\n      <td>15427.500000</td>\n      <td>6.800000</td>\n      <td>17209.500000</td>\n      <td>203.000000</td>\n      <td>44.000000</td>\n      <td>-1596.000000</td>\n      <td>-1212.000000</td>\n      <td>20.300000</td>\n      <td>1542.750000</td>\n    </tr>\n    <tr>\n      <th>50%</th>\n      <td>0.000000</td>\n      <td>16.000000</td>\n      <td>3.000000</td>\n      <td>1.000000</td>\n      <td>6.000000</td>\n      <td>6.000000</td>\n      <td>6.000000</td>\n      <td>0.000000</td>\n      <td>0.000000</td>\n      <td>0.000000</td>\n      <td>...</td>\n      <td>0.000000</td>\n      <td>16378.000000</td>\n      <td>7.000000</td>\n      <td>17974.000000</td>\n      <td>218.000000</td>\n      <td>51.000000</td>\n      <td>-14.000000</td>\n      <td>28.000000</td>\n      <td>21.800000</td>\n      <td>1637.800000</td>\n    </tr>\n    <tr>\n      <th>75%</th>\n      <td>1.000000</td>\n      <td>20.000000</td>\n      <td>4.000000</td>\n      <td>1.000000</td>\n      <td>8.000000</td>\n      <td>8.000000</td>\n      <td>9.000000</td>\n      <td>1.000000</td>\n      <td>1.000000</td>\n      <td>0.000000</td>\n      <td>...</td>\n      <td>0.000000</td>\n      <td>17418.500000</td>\n      <td>7.200000</td>\n      <td>18764.500000</td>\n      <td>233.000000</td>\n      <td>57.000000</td>\n      <td>1585.500000</td>\n      <td>1290.500000</td>\n      <td>23.300000</td>\n      <td>1741.850000</td>\n    </tr>\n    <tr>\n      <th>max</th>\n      <td>1.000000</td>\n      <td>250.000000</td>\n      <td>27.000000</td>\n      <td>1.000000</td>\n      <td>22.000000</td>\n      <td>22.000000</td>\n      <td>29.000000</td>\n      <td>2.000000</td>\n      <td>1.000000</td>\n      <td>1.000000</td>\n      <td>...</td>\n      <td>2.000000</td>\n      <td>22732.000000</td>\n      <td>8.200000</td>\n      <td>22269.000000</td>\n      <td>289.000000</td>\n      <td>92.000000</td>\n      <td>10830.000000</td>\n      <td>9333.000000</td>\n      <td>28.900000</td>\n      <td>2273.200000</td>\n    </tr>\n  </tbody>\n</table>\n<p>8 rows × 39 columns</p>\n</div>"
     },
     "metadata": {},
     "execution_count": 8
    }
   ],
   "source": [
    "# Your code here\n",
    "lol_data.describe()"
   ]
  },
  {
   "cell_type": "markdown",
   "metadata": {},
   "source": [
    "## Task 2\n",
    "\n",
    "`[0.2]` Create a new column `whoWon` which contains `\"red\"` or `\"blue\"` based on the `blueWins` column."
   ]
  },
  {
   "cell_type": "code",
   "execution_count": 9,
   "metadata": {},
   "outputs": [
    {
     "output_type": "execute_result",
     "data": {
      "text/plain": "            blueWins  blueWardsPlaced  blueWardsDestroyed  blueFirstBlood  \\\ngameId                                                                      \n4521025798         1               14                   2               0   \n4524443617         1               17                   3               0   \n4476065129         0               17                   7               0   \n4519431177         0                9                   0               0   \n4513799193         0               14                   1               0   \n4478654416         1               16                   1               1   \n4526554592         1               13                   5               0   \n4513070256         0               84                   3               0   \n4462715361         1               14                   7               1   \n4497843332         1               14                   6               1   \n\n            blueKills  blueDeaths  blueAssists  blueEliteMonsters  \\\ngameId                                                              \n4521025798          4           3            3                  1   \n4524443617          4           1            5                  1   \n4476065129          6           6            9                  0   \n4519431177          7          10            7                  0   \n4513799193          2           4            3                  1   \n4478654416         12           9           17                  0   \n4526554592          4          10            8                  0   \n4513070256          5          12            4                  0   \n4462715361          3           5            2                  1   \n4497843332          9           4           13                  0   \n\n            blueDragons  blueHeralds  ...  redTotalGold  redAvgLevel  \\\ngameId                                ...                              \n4521025798            1            0  ...         15549          6.6   \n4524443617            1            0  ...         14150          7.0   \n4476065129            0            0  ...         16878          7.0   \n4519431177            0            0  ...         18923          7.2   \n4513799193            1            0  ...         17246          7.0   \n4478654416            0            0  ...         17781          6.6   \n4526554592            0            0  ...         17888          7.0   \n4513070256            0            0  ...         18995          7.6   \n4462715361            0            1  ...         15912          7.0   \n4497843332            0            0  ...         15317          6.8   \n\n            redTotalExperience  redTotalMinionsKilled  \\\ngameId                                                  \n4521025798               17507                    253   \n4524443617               17611                    214   \n4476065129               19539                    245   \n4519431177               19146                    244   \n4513799193               17515                    240   \n4478654416               16580                    225   \n4526554592               17801                    210   \n4513070256               20250                    222   \n4462715361               18636                    203   \n4497843332               17762                    227   \n\n            redTotalJungleMinionsKilled  redGoldDiff  redExperienceDiff  \\\ngameId                                                                    \n4521025798                           46         -825              -1066   \n4524443617                           47        -1891               -603   \n4476065129                           56           66               1073   \n4519431177                           54         1360               1561   \n4513799193                           44         2928                110   \n4478654416                           34         -941              -2107   \n4526554592                           40         3259               1518   \n4513070256                           50         3176               2235   \n4462715361                           76          -17                -44   \n4497843332                           48        -2091              -1359   \n\n            redCSPerMin  redGoldPerMin  whoWon  \ngameId                                          \n4521025798         25.3         1554.9    blue  \n4524443617         21.4         1415.0    blue  \n4476065129         24.5         1687.8     red  \n4519431177         24.4         1892.3     red  \n4513799193         24.0         1724.6     red  \n4478654416         22.5         1778.1    blue  \n4526554592         21.0         1788.8    blue  \n4513070256         22.2         1899.5     red  \n4462715361         20.3         1591.2    blue  \n4497843332         22.7         1531.7    blue  \n\n[10 rows x 40 columns]",
      "text/html": "<div>\n<style scoped>\n    .dataframe tbody tr th:only-of-type {\n        vertical-align: middle;\n    }\n\n    .dataframe tbody tr th {\n        vertical-align: top;\n    }\n\n    .dataframe thead th {\n        text-align: right;\n    }\n</style>\n<table border=\"1\" class=\"dataframe\">\n  <thead>\n    <tr style=\"text-align: right;\">\n      <th></th>\n      <th>blueWins</th>\n      <th>blueWardsPlaced</th>\n      <th>blueWardsDestroyed</th>\n      <th>blueFirstBlood</th>\n      <th>blueKills</th>\n      <th>blueDeaths</th>\n      <th>blueAssists</th>\n      <th>blueEliteMonsters</th>\n      <th>blueDragons</th>\n      <th>blueHeralds</th>\n      <th>...</th>\n      <th>redTotalGold</th>\n      <th>redAvgLevel</th>\n      <th>redTotalExperience</th>\n      <th>redTotalMinionsKilled</th>\n      <th>redTotalJungleMinionsKilled</th>\n      <th>redGoldDiff</th>\n      <th>redExperienceDiff</th>\n      <th>redCSPerMin</th>\n      <th>redGoldPerMin</th>\n      <th>whoWon</th>\n    </tr>\n    <tr>\n      <th>gameId</th>\n      <th></th>\n      <th></th>\n      <th></th>\n      <th></th>\n      <th></th>\n      <th></th>\n      <th></th>\n      <th></th>\n      <th></th>\n      <th></th>\n      <th></th>\n      <th></th>\n      <th></th>\n      <th></th>\n      <th></th>\n      <th></th>\n      <th></th>\n      <th></th>\n      <th></th>\n      <th></th>\n      <th></th>\n    </tr>\n  </thead>\n  <tbody>\n    <tr>\n      <th>4521025798</th>\n      <td>1</td>\n      <td>14</td>\n      <td>2</td>\n      <td>0</td>\n      <td>4</td>\n      <td>3</td>\n      <td>3</td>\n      <td>1</td>\n      <td>1</td>\n      <td>0</td>\n      <td>...</td>\n      <td>15549</td>\n      <td>6.6</td>\n      <td>17507</td>\n      <td>253</td>\n      <td>46</td>\n      <td>-825</td>\n      <td>-1066</td>\n      <td>25.3</td>\n      <td>1554.9</td>\n      <td>blue</td>\n    </tr>\n    <tr>\n      <th>4524443617</th>\n      <td>1</td>\n      <td>17</td>\n      <td>3</td>\n      <td>0</td>\n      <td>4</td>\n      <td>1</td>\n      <td>5</td>\n      <td>1</td>\n      <td>1</td>\n      <td>0</td>\n      <td>...</td>\n      <td>14150</td>\n      <td>7.0</td>\n      <td>17611</td>\n      <td>214</td>\n      <td>47</td>\n      <td>-1891</td>\n      <td>-603</td>\n      <td>21.4</td>\n      <td>1415.0</td>\n      <td>blue</td>\n    </tr>\n    <tr>\n      <th>4476065129</th>\n      <td>0</td>\n      <td>17</td>\n      <td>7</td>\n      <td>0</td>\n      <td>6</td>\n      <td>6</td>\n      <td>9</td>\n      <td>0</td>\n      <td>0</td>\n      <td>0</td>\n      <td>...</td>\n      <td>16878</td>\n      <td>7.0</td>\n      <td>19539</td>\n      <td>245</td>\n      <td>56</td>\n      <td>66</td>\n      <td>1073</td>\n      <td>24.5</td>\n      <td>1687.8</td>\n      <td>red</td>\n    </tr>\n    <tr>\n      <th>4519431177</th>\n      <td>0</td>\n      <td>9</td>\n      <td>0</td>\n      <td>0</td>\n      <td>7</td>\n      <td>10</td>\n      <td>7</td>\n      <td>0</td>\n      <td>0</td>\n      <td>0</td>\n      <td>...</td>\n      <td>18923</td>\n      <td>7.2</td>\n      <td>19146</td>\n      <td>244</td>\n      <td>54</td>\n      <td>1360</td>\n      <td>1561</td>\n      <td>24.4</td>\n      <td>1892.3</td>\n      <td>red</td>\n    </tr>\n    <tr>\n      <th>4513799193</th>\n      <td>0</td>\n      <td>14</td>\n      <td>1</td>\n      <td>0</td>\n      <td>2</td>\n      <td>4</td>\n      <td>3</td>\n      <td>1</td>\n      <td>1</td>\n      <td>0</td>\n      <td>...</td>\n      <td>17246</td>\n      <td>7.0</td>\n      <td>17515</td>\n      <td>240</td>\n      <td>44</td>\n      <td>2928</td>\n      <td>110</td>\n      <td>24.0</td>\n      <td>1724.6</td>\n      <td>red</td>\n    </tr>\n    <tr>\n      <th>4478654416</th>\n      <td>1</td>\n      <td>16</td>\n      <td>1</td>\n      <td>1</td>\n      <td>12</td>\n      <td>9</td>\n      <td>17</td>\n      <td>0</td>\n      <td>0</td>\n      <td>0</td>\n      <td>...</td>\n      <td>17781</td>\n      <td>6.6</td>\n      <td>16580</td>\n      <td>225</td>\n      <td>34</td>\n      <td>-941</td>\n      <td>-2107</td>\n      <td>22.5</td>\n      <td>1778.1</td>\n      <td>blue</td>\n    </tr>\n    <tr>\n      <th>4526554592</th>\n      <td>1</td>\n      <td>13</td>\n      <td>5</td>\n      <td>0</td>\n      <td>4</td>\n      <td>10</td>\n      <td>8</td>\n      <td>0</td>\n      <td>0</td>\n      <td>0</td>\n      <td>...</td>\n      <td>17888</td>\n      <td>7.0</td>\n      <td>17801</td>\n      <td>210</td>\n      <td>40</td>\n      <td>3259</td>\n      <td>1518</td>\n      <td>21.0</td>\n      <td>1788.8</td>\n      <td>blue</td>\n    </tr>\n    <tr>\n      <th>4513070256</th>\n      <td>0</td>\n      <td>84</td>\n      <td>3</td>\n      <td>0</td>\n      <td>5</td>\n      <td>12</td>\n      <td>4</td>\n      <td>0</td>\n      <td>0</td>\n      <td>0</td>\n      <td>...</td>\n      <td>18995</td>\n      <td>7.6</td>\n      <td>20250</td>\n      <td>222</td>\n      <td>50</td>\n      <td>3176</td>\n      <td>2235</td>\n      <td>22.2</td>\n      <td>1899.5</td>\n      <td>red</td>\n    </tr>\n    <tr>\n      <th>4462715361</th>\n      <td>1</td>\n      <td>14</td>\n      <td>7</td>\n      <td>1</td>\n      <td>3</td>\n      <td>5</td>\n      <td>2</td>\n      <td>1</td>\n      <td>0</td>\n      <td>1</td>\n      <td>...</td>\n      <td>15912</td>\n      <td>7.0</td>\n      <td>18636</td>\n      <td>203</td>\n      <td>76</td>\n      <td>-17</td>\n      <td>-44</td>\n      <td>20.3</td>\n      <td>1591.2</td>\n      <td>blue</td>\n    </tr>\n    <tr>\n      <th>4497843332</th>\n      <td>1</td>\n      <td>14</td>\n      <td>6</td>\n      <td>1</td>\n      <td>9</td>\n      <td>4</td>\n      <td>13</td>\n      <td>0</td>\n      <td>0</td>\n      <td>0</td>\n      <td>...</td>\n      <td>15317</td>\n      <td>6.8</td>\n      <td>17762</td>\n      <td>227</td>\n      <td>48</td>\n      <td>-2091</td>\n      <td>-1359</td>\n      <td>22.7</td>\n      <td>1531.7</td>\n      <td>blue</td>\n    </tr>\n  </tbody>\n</table>\n<p>10 rows × 40 columns</p>\n</div>"
     },
     "metadata": {},
     "execution_count": 9
    }
   ],
   "source": [
    "# Your code here\n",
    "def whoWon(row):\n",
    "    if(row.blueWins == 1):\n",
    "        return \"blue\"\n",
    "    return \"red\"\n",
    "\n",
    "lol_data['whoWon'] = lol_data.apply(whoWon, axis = \"columns\")\n",
    "lol_data.sample(10)"
   ]
  },
  {
   "cell_type": "markdown",
   "metadata": {},
   "source": [
    "`[0.2]` Create a new column `firstKill` which contains `\"red\"` or `\"blue\"` based on either `blueFirstBlood` or `redFirstBlood`."
   ]
  },
  {
   "cell_type": "code",
   "execution_count": 10,
   "metadata": {},
   "outputs": [
    {
     "output_type": "execute_result",
     "data": {
      "text/plain": "            blueWins  blueWardsPlaced  blueWardsDestroyed  blueFirstBlood  \\\ngameId                                                                      \n4452452649         0               13                   5               0   \n4516959189         1               13                   1               0   \n4463534767         1               16                   2               0   \n4445718276         0               14                   6               0   \n4503636905         0               43                   3               0   \n4492374255         1               18                   2               1   \n4525957901         0               42                   1               1   \n4474924285         1               13                   1               1   \n4502464132         0               87                   3               1   \n4457247520         1              122                   2               1   \n\n            blueKills  blueDeaths  blueAssists  blueEliteMonsters  \\\ngameId                                                              \n4452452649          6           7            2                  0   \n4516959189          6           6            5                  0   \n4463534767         12           5           12                  0   \n4445718276         10           9            8                  0   \n4503636905          3           7            3                  1   \n4492374255          5           3            5                  1   \n4525957901         12          11           10                  1   \n4474924285          2           3            1                  0   \n4502464132          7           4            7                  1   \n4457247520         15          10            9                  1   \n\n            blueDragons  blueHeralds  ...  redAvgLevel  redTotalExperience  \\\ngameId                                ...                                    \n4452452649            0            0  ...          7.0               17505   \n4516959189            0            0  ...          7.0               18721   \n4463534767            0            0  ...          6.4               15798   \n4445718276            0            0  ...          7.0               18704   \n4503636905            0            1  ...          6.8               18233   \n4492374255            1            0  ...          7.0               18725   \n4525957901            1            0  ...          7.2               18075   \n4474924285            0            0  ...          6.8               17319   \n4502464132            1            0  ...          6.2               14710   \n4457247520            0            1  ...          6.8               17150   \n\n            redTotalMinionsKilled  redTotalJungleMinionsKilled  redGoldDiff  \\\ngameId                                                                        \n4452452649                    212                           40         1101   \n4516959189                    211                           44         -131   \n4463534767                    149                           46        -5553   \n4445718276                    212                           62         1281   \n4503636905                    218                           53         1975   \n4492374255                    234                           64         -961   \n4525957901                    159                           46           48   \n4474924285                    242                           29         -209   \n4502464132                    183                           28        -2568   \n4457247520                    183                           27        -1902   \n\n            redExperienceDiff  redCSPerMin  redGoldPerMin  whoWon  firstKill  \ngameId                                                                        \n4452452649                718         21.2         1634.5     red        red  \n4516959189              -1207         21.1         1611.7    blue        red  \n4463534767              -3915         14.9         1463.7    blue        red  \n4445718276                525         21.2         1842.6     red        red  \n4503636905               1345         21.8         1682.7     red        red  \n4492374255                900         23.4         1562.2    blue       blue  \n4525957901               -482         15.9         1820.7     red       blue  \n4474924285               -250         24.2         1525.5    blue       blue  \n4502464132              -3054         18.3         1415.5     red       blue  \n4457247520              -3370         18.3         1730.2    blue       blue  \n\n[10 rows x 41 columns]",
      "text/html": "<div>\n<style scoped>\n    .dataframe tbody tr th:only-of-type {\n        vertical-align: middle;\n    }\n\n    .dataframe tbody tr th {\n        vertical-align: top;\n    }\n\n    .dataframe thead th {\n        text-align: right;\n    }\n</style>\n<table border=\"1\" class=\"dataframe\">\n  <thead>\n    <tr style=\"text-align: right;\">\n      <th></th>\n      <th>blueWins</th>\n      <th>blueWardsPlaced</th>\n      <th>blueWardsDestroyed</th>\n      <th>blueFirstBlood</th>\n      <th>blueKills</th>\n      <th>blueDeaths</th>\n      <th>blueAssists</th>\n      <th>blueEliteMonsters</th>\n      <th>blueDragons</th>\n      <th>blueHeralds</th>\n      <th>...</th>\n      <th>redAvgLevel</th>\n      <th>redTotalExperience</th>\n      <th>redTotalMinionsKilled</th>\n      <th>redTotalJungleMinionsKilled</th>\n      <th>redGoldDiff</th>\n      <th>redExperienceDiff</th>\n      <th>redCSPerMin</th>\n      <th>redGoldPerMin</th>\n      <th>whoWon</th>\n      <th>firstKill</th>\n    </tr>\n    <tr>\n      <th>gameId</th>\n      <th></th>\n      <th></th>\n      <th></th>\n      <th></th>\n      <th></th>\n      <th></th>\n      <th></th>\n      <th></th>\n      <th></th>\n      <th></th>\n      <th></th>\n      <th></th>\n      <th></th>\n      <th></th>\n      <th></th>\n      <th></th>\n      <th></th>\n      <th></th>\n      <th></th>\n      <th></th>\n      <th></th>\n    </tr>\n  </thead>\n  <tbody>\n    <tr>\n      <th>4452452649</th>\n      <td>0</td>\n      <td>13</td>\n      <td>5</td>\n      <td>0</td>\n      <td>6</td>\n      <td>7</td>\n      <td>2</td>\n      <td>0</td>\n      <td>0</td>\n      <td>0</td>\n      <td>...</td>\n      <td>7.0</td>\n      <td>17505</td>\n      <td>212</td>\n      <td>40</td>\n      <td>1101</td>\n      <td>718</td>\n      <td>21.2</td>\n      <td>1634.5</td>\n      <td>red</td>\n      <td>red</td>\n    </tr>\n    <tr>\n      <th>4516959189</th>\n      <td>1</td>\n      <td>13</td>\n      <td>1</td>\n      <td>0</td>\n      <td>6</td>\n      <td>6</td>\n      <td>5</td>\n      <td>0</td>\n      <td>0</td>\n      <td>0</td>\n      <td>...</td>\n      <td>7.0</td>\n      <td>18721</td>\n      <td>211</td>\n      <td>44</td>\n      <td>-131</td>\n      <td>-1207</td>\n      <td>21.1</td>\n      <td>1611.7</td>\n      <td>blue</td>\n      <td>red</td>\n    </tr>\n    <tr>\n      <th>4463534767</th>\n      <td>1</td>\n      <td>16</td>\n      <td>2</td>\n      <td>0</td>\n      <td>12</td>\n      <td>5</td>\n      <td>12</td>\n      <td>0</td>\n      <td>0</td>\n      <td>0</td>\n      <td>...</td>\n      <td>6.4</td>\n      <td>15798</td>\n      <td>149</td>\n      <td>46</td>\n      <td>-5553</td>\n      <td>-3915</td>\n      <td>14.9</td>\n      <td>1463.7</td>\n      <td>blue</td>\n      <td>red</td>\n    </tr>\n    <tr>\n      <th>4445718276</th>\n      <td>0</td>\n      <td>14</td>\n      <td>6</td>\n      <td>0</td>\n      <td>10</td>\n      <td>9</td>\n      <td>8</td>\n      <td>0</td>\n      <td>0</td>\n      <td>0</td>\n      <td>...</td>\n      <td>7.0</td>\n      <td>18704</td>\n      <td>212</td>\n      <td>62</td>\n      <td>1281</td>\n      <td>525</td>\n      <td>21.2</td>\n      <td>1842.6</td>\n      <td>red</td>\n      <td>red</td>\n    </tr>\n    <tr>\n      <th>4503636905</th>\n      <td>0</td>\n      <td>43</td>\n      <td>3</td>\n      <td>0</td>\n      <td>3</td>\n      <td>7</td>\n      <td>3</td>\n      <td>1</td>\n      <td>0</td>\n      <td>1</td>\n      <td>...</td>\n      <td>6.8</td>\n      <td>18233</td>\n      <td>218</td>\n      <td>53</td>\n      <td>1975</td>\n      <td>1345</td>\n      <td>21.8</td>\n      <td>1682.7</td>\n      <td>red</td>\n      <td>red</td>\n    </tr>\n    <tr>\n      <th>4492374255</th>\n      <td>1</td>\n      <td>18</td>\n      <td>2</td>\n      <td>1</td>\n      <td>5</td>\n      <td>3</td>\n      <td>5</td>\n      <td>1</td>\n      <td>1</td>\n      <td>0</td>\n      <td>...</td>\n      <td>7.0</td>\n      <td>18725</td>\n      <td>234</td>\n      <td>64</td>\n      <td>-961</td>\n      <td>900</td>\n      <td>23.4</td>\n      <td>1562.2</td>\n      <td>blue</td>\n      <td>blue</td>\n    </tr>\n    <tr>\n      <th>4525957901</th>\n      <td>0</td>\n      <td>42</td>\n      <td>1</td>\n      <td>1</td>\n      <td>12</td>\n      <td>11</td>\n      <td>10</td>\n      <td>1</td>\n      <td>1</td>\n      <td>0</td>\n      <td>...</td>\n      <td>7.2</td>\n      <td>18075</td>\n      <td>159</td>\n      <td>46</td>\n      <td>48</td>\n      <td>-482</td>\n      <td>15.9</td>\n      <td>1820.7</td>\n      <td>red</td>\n      <td>blue</td>\n    </tr>\n    <tr>\n      <th>4474924285</th>\n      <td>1</td>\n      <td>13</td>\n      <td>1</td>\n      <td>1</td>\n      <td>2</td>\n      <td>3</td>\n      <td>1</td>\n      <td>0</td>\n      <td>0</td>\n      <td>0</td>\n      <td>...</td>\n      <td>6.8</td>\n      <td>17319</td>\n      <td>242</td>\n      <td>29</td>\n      <td>-209</td>\n      <td>-250</td>\n      <td>24.2</td>\n      <td>1525.5</td>\n      <td>blue</td>\n      <td>blue</td>\n    </tr>\n    <tr>\n      <th>4502464132</th>\n      <td>0</td>\n      <td>87</td>\n      <td>3</td>\n      <td>1</td>\n      <td>7</td>\n      <td>4</td>\n      <td>7</td>\n      <td>1</td>\n      <td>1</td>\n      <td>0</td>\n      <td>...</td>\n      <td>6.2</td>\n      <td>14710</td>\n      <td>183</td>\n      <td>28</td>\n      <td>-2568</td>\n      <td>-3054</td>\n      <td>18.3</td>\n      <td>1415.5</td>\n      <td>red</td>\n      <td>blue</td>\n    </tr>\n    <tr>\n      <th>4457247520</th>\n      <td>1</td>\n      <td>122</td>\n      <td>2</td>\n      <td>1</td>\n      <td>15</td>\n      <td>10</td>\n      <td>9</td>\n      <td>1</td>\n      <td>0</td>\n      <td>1</td>\n      <td>...</td>\n      <td>6.8</td>\n      <td>17150</td>\n      <td>183</td>\n      <td>27</td>\n      <td>-1902</td>\n      <td>-3370</td>\n      <td>18.3</td>\n      <td>1730.2</td>\n      <td>blue</td>\n      <td>blue</td>\n    </tr>\n  </tbody>\n</table>\n<p>10 rows × 41 columns</p>\n</div>"
     },
     "metadata": {},
     "execution_count": 10
    }
   ],
   "source": [
    "# Your code here\n",
    "def firstBlood(row):\n",
    "    if(row.blueFirstBlood == 1):\n",
    "        return \"blue\"\n",
    "    return \"red\"\n",
    "\n",
    "lol_data['firstKill'] = lol_data.apply(firstBlood, axis = \"columns\")\n",
    "lol_data.sample(10)"
   ]
  },
  {
   "cell_type": "markdown",
   "metadata": {},
   "source": [
    "`[0.1]` Set the dtype of the `whoWon` and `firstKill` to categorical."
   ]
  },
  {
   "cell_type": "code",
   "execution_count": 11,
   "metadata": {},
   "outputs": [
    {
     "output_type": "execute_result",
     "data": {
      "text/plain": "            blueWins  blueWardsPlaced  blueWardsDestroyed  blueFirstBlood  \\\ngameId                                                                      \n4510754518         1               19                   3               0   \n4526560120         0               14                   2               1   \n4490512919         0               41                   7               1   \n4514596756         0               25                   4               0   \n4477428362         1               12                   1               1   \n4495909793         0               17                   1               0   \n4521433925         1               18                   2               0   \n4504366745         0               24                   3               0   \n4524921520         1               25                   1               0   \n4458282675         1               18                   4               0   \n\n            blueKills  blueDeaths  blueAssists  blueEliteMonsters  \\\ngameId                                                              \n4510754518          5           4            3                  1   \n4526560120          4           6            2                  0   \n4490512919          5          13            7                  0   \n4514596756          8           4            8                  1   \n4477428362          3           5            3                  0   \n4495909793          5           6            5                  0   \n4521433925          5           5            5                  0   \n4504366745          6           5            8                  0   \n4524921520          5           5            4                  0   \n4458282675         11           6           13                  2   \n\n            blueDragons  blueHeralds  ...  redAvgLevel  redTotalExperience  \\\ngameId                                ...                                    \n4510754518            1            0  ...          6.6               17358   \n4526560120            0            0  ...          6.8               18373   \n4490512919            0            0  ...          7.4               19637   \n4514596756            0            1  ...          6.4               16578   \n4477428362            0            0  ...          7.2               19583   \n4495909793            0            0  ...          6.8               17191   \n4521433925            0            0  ...          7.0               19040   \n4504366745            0            0  ...          7.2               18466   \n4524921520            0            0  ...          7.2               18384   \n4458282675            1            1  ...          6.4               16539   \n\n            redTotalMinionsKilled  redTotalJungleMinionsKilled  redGoldDiff  \\\ngameId                                                                        \n4510754518                    218                           48        -1217   \n4526560120                    222                           52         2523   \n4490512919                    235                           49         5760   \n4514596756                    211                           40        -3152   \n4477428362                    243                           60          564   \n4495909793                    221                           60           97   \n4521433925                    207                           76         1344   \n4504366745                    239                           64         -226   \n4524921520                    235                           52         -570   \n4458282675                    208                           32        -3977   \n\n            redExperienceDiff  redCSPerMin  redGoldPerMin  whoWon  firstKill  \ngameId                                                                        \n4510754518              -2934         21.8         1584.4    blue        red  \n4526560120               2080         22.2         1635.2     red       blue  \n4490512919               4168         23.5         2053.6     red       blue  \n4514596756              -2104         21.1         1490.5     red        red  \n4477428362               1862         24.3         1627.2    blue       blue  \n4495909793              -1114         22.1         1627.6     red        red  \n4521433925               2597         20.7         1653.5    blue        red  \n4504366745               -557         23.9         1658.3     red        red  \n4524921520               -368         23.5         1643.3    blue        red  \n4458282675              -3949         20.8         1570.0    blue        red  \n\n[10 rows x 41 columns]",
      "text/html": "<div>\n<style scoped>\n    .dataframe tbody tr th:only-of-type {\n        vertical-align: middle;\n    }\n\n    .dataframe tbody tr th {\n        vertical-align: top;\n    }\n\n    .dataframe thead th {\n        text-align: right;\n    }\n</style>\n<table border=\"1\" class=\"dataframe\">\n  <thead>\n    <tr style=\"text-align: right;\">\n      <th></th>\n      <th>blueWins</th>\n      <th>blueWardsPlaced</th>\n      <th>blueWardsDestroyed</th>\n      <th>blueFirstBlood</th>\n      <th>blueKills</th>\n      <th>blueDeaths</th>\n      <th>blueAssists</th>\n      <th>blueEliteMonsters</th>\n      <th>blueDragons</th>\n      <th>blueHeralds</th>\n      <th>...</th>\n      <th>redAvgLevel</th>\n      <th>redTotalExperience</th>\n      <th>redTotalMinionsKilled</th>\n      <th>redTotalJungleMinionsKilled</th>\n      <th>redGoldDiff</th>\n      <th>redExperienceDiff</th>\n      <th>redCSPerMin</th>\n      <th>redGoldPerMin</th>\n      <th>whoWon</th>\n      <th>firstKill</th>\n    </tr>\n    <tr>\n      <th>gameId</th>\n      <th></th>\n      <th></th>\n      <th></th>\n      <th></th>\n      <th></th>\n      <th></th>\n      <th></th>\n      <th></th>\n      <th></th>\n      <th></th>\n      <th></th>\n      <th></th>\n      <th></th>\n      <th></th>\n      <th></th>\n      <th></th>\n      <th></th>\n      <th></th>\n      <th></th>\n      <th></th>\n      <th></th>\n    </tr>\n  </thead>\n  <tbody>\n    <tr>\n      <th>4510754518</th>\n      <td>1</td>\n      <td>19</td>\n      <td>3</td>\n      <td>0</td>\n      <td>5</td>\n      <td>4</td>\n      <td>3</td>\n      <td>1</td>\n      <td>1</td>\n      <td>0</td>\n      <td>...</td>\n      <td>6.6</td>\n      <td>17358</td>\n      <td>218</td>\n      <td>48</td>\n      <td>-1217</td>\n      <td>-2934</td>\n      <td>21.8</td>\n      <td>1584.4</td>\n      <td>blue</td>\n      <td>red</td>\n    </tr>\n    <tr>\n      <th>4526560120</th>\n      <td>0</td>\n      <td>14</td>\n      <td>2</td>\n      <td>1</td>\n      <td>4</td>\n      <td>6</td>\n      <td>2</td>\n      <td>0</td>\n      <td>0</td>\n      <td>0</td>\n      <td>...</td>\n      <td>6.8</td>\n      <td>18373</td>\n      <td>222</td>\n      <td>52</td>\n      <td>2523</td>\n      <td>2080</td>\n      <td>22.2</td>\n      <td>1635.2</td>\n      <td>red</td>\n      <td>blue</td>\n    </tr>\n    <tr>\n      <th>4490512919</th>\n      <td>0</td>\n      <td>41</td>\n      <td>7</td>\n      <td>1</td>\n      <td>5</td>\n      <td>13</td>\n      <td>7</td>\n      <td>0</td>\n      <td>0</td>\n      <td>0</td>\n      <td>...</td>\n      <td>7.4</td>\n      <td>19637</td>\n      <td>235</td>\n      <td>49</td>\n      <td>5760</td>\n      <td>4168</td>\n      <td>23.5</td>\n      <td>2053.6</td>\n      <td>red</td>\n      <td>blue</td>\n    </tr>\n    <tr>\n      <th>4514596756</th>\n      <td>0</td>\n      <td>25</td>\n      <td>4</td>\n      <td>0</td>\n      <td>8</td>\n      <td>4</td>\n      <td>8</td>\n      <td>1</td>\n      <td>0</td>\n      <td>1</td>\n      <td>...</td>\n      <td>6.4</td>\n      <td>16578</td>\n      <td>211</td>\n      <td>40</td>\n      <td>-3152</td>\n      <td>-2104</td>\n      <td>21.1</td>\n      <td>1490.5</td>\n      <td>red</td>\n      <td>red</td>\n    </tr>\n    <tr>\n      <th>4477428362</th>\n      <td>1</td>\n      <td>12</td>\n      <td>1</td>\n      <td>1</td>\n      <td>3</td>\n      <td>5</td>\n      <td>3</td>\n      <td>0</td>\n      <td>0</td>\n      <td>0</td>\n      <td>...</td>\n      <td>7.2</td>\n      <td>19583</td>\n      <td>243</td>\n      <td>60</td>\n      <td>564</td>\n      <td>1862</td>\n      <td>24.3</td>\n      <td>1627.2</td>\n      <td>blue</td>\n      <td>blue</td>\n    </tr>\n    <tr>\n      <th>4495909793</th>\n      <td>0</td>\n      <td>17</td>\n      <td>1</td>\n      <td>0</td>\n      <td>5</td>\n      <td>6</td>\n      <td>5</td>\n      <td>0</td>\n      <td>0</td>\n      <td>0</td>\n      <td>...</td>\n      <td>6.8</td>\n      <td>17191</td>\n      <td>221</td>\n      <td>60</td>\n      <td>97</td>\n      <td>-1114</td>\n      <td>22.1</td>\n      <td>1627.6</td>\n      <td>red</td>\n      <td>red</td>\n    </tr>\n    <tr>\n      <th>4521433925</th>\n      <td>1</td>\n      <td>18</td>\n      <td>2</td>\n      <td>0</td>\n      <td>5</td>\n      <td>5</td>\n      <td>5</td>\n      <td>0</td>\n      <td>0</td>\n      <td>0</td>\n      <td>...</td>\n      <td>7.0</td>\n      <td>19040</td>\n      <td>207</td>\n      <td>76</td>\n      <td>1344</td>\n      <td>2597</td>\n      <td>20.7</td>\n      <td>1653.5</td>\n      <td>blue</td>\n      <td>red</td>\n    </tr>\n    <tr>\n      <th>4504366745</th>\n      <td>0</td>\n      <td>24</td>\n      <td>3</td>\n      <td>0</td>\n      <td>6</td>\n      <td>5</td>\n      <td>8</td>\n      <td>0</td>\n      <td>0</td>\n      <td>0</td>\n      <td>...</td>\n      <td>7.2</td>\n      <td>18466</td>\n      <td>239</td>\n      <td>64</td>\n      <td>-226</td>\n      <td>-557</td>\n      <td>23.9</td>\n      <td>1658.3</td>\n      <td>red</td>\n      <td>red</td>\n    </tr>\n    <tr>\n      <th>4524921520</th>\n      <td>1</td>\n      <td>25</td>\n      <td>1</td>\n      <td>0</td>\n      <td>5</td>\n      <td>5</td>\n      <td>4</td>\n      <td>0</td>\n      <td>0</td>\n      <td>0</td>\n      <td>...</td>\n      <td>7.2</td>\n      <td>18384</td>\n      <td>235</td>\n      <td>52</td>\n      <td>-570</td>\n      <td>-368</td>\n      <td>23.5</td>\n      <td>1643.3</td>\n      <td>blue</td>\n      <td>red</td>\n    </tr>\n    <tr>\n      <th>4458282675</th>\n      <td>1</td>\n      <td>18</td>\n      <td>4</td>\n      <td>0</td>\n      <td>11</td>\n      <td>6</td>\n      <td>13</td>\n      <td>2</td>\n      <td>1</td>\n      <td>1</td>\n      <td>...</td>\n      <td>6.4</td>\n      <td>16539</td>\n      <td>208</td>\n      <td>32</td>\n      <td>-3977</td>\n      <td>-3949</td>\n      <td>20.8</td>\n      <td>1570.0</td>\n      <td>blue</td>\n      <td>red</td>\n    </tr>\n  </tbody>\n</table>\n<p>10 rows × 41 columns</p>\n</div>"
     },
     "metadata": {},
     "execution_count": 11
    }
   ],
   "source": [
    "# Your code here\n",
    "lol_data.whoWon = lol_data.whoWon.astype('category')\n",
    "lol_data.firstKill = lol_data.firstKill.astype('category')\n",
    "lol_data.sample(10)"
   ]
  },
  {
   "cell_type": "markdown",
   "metadata": {},
   "source": [
    "`[0.5]` Cast all `float` columns to `int`, while setting each value to its ceiling."
   ]
  },
  {
   "cell_type": "code",
   "execution_count": 12,
   "metadata": {},
   "outputs": [],
   "source": [
    "# Your code here\n"
   ]
  },
  {
   "cell_type": "markdown",
   "metadata": {},
   "source": [
    "## Task 3\n",
    "\n",
    "`[1.0]` Create two new columns: `blueFinalWards` and `redFinalWards` that are calculated in the following manner:\n",
    "\n",
    "```\n",
    "blueFinalWards = blueWardsPlaced - redWardsDestroyed\n",
    "redFinalWards = redWardsPlaced - blueWardsDestroyed\n",
    "```"
   ]
  },
  {
   "cell_type": "code",
   "execution_count": 24,
   "metadata": {},
   "outputs": [
    {
     "output_type": "execute_result",
     "data": {
      "text/plain": "            blueWins  blueWardsPlaced  blueWardsDestroyed  blueFirstBlood  \\\ngameId                                                                      \n4520909804         1               40                   3               1   \n4524683257         0               12                   3               0   \n4516672650         0               14                   0               0   \n4523849056         1               26                   2               1   \n4458560813         1               18                   2               1   \n4525590476         1               19                   6               1   \n4517904549         1               18                   2               0   \n4480203372         0               13                   2               0   \n4521318452         1               17                   0               0   \n4524024822         1               13                   8               1   \n\n            blueKills  blueDeaths  blueAssists  blueEliteMonsters  \\\ngameId                                                              \n4520909804          9           5            3                  2   \n4524683257          4           7            2                  0   \n4516672650          2           9            2                  1   \n4523849056          5           4            8                  1   \n4458560813         10           7           13                  0   \n4525590476          8           6           10                  2   \n4517904549          3           5            3                  1   \n4480203372          9           4           12                  0   \n4521318452          9           8            8                  1   \n4524024822         12           2           10                  2   \n\n            blueDragons  blueHeralds  ...  redTotalMinionsKilled  \\\ngameId                                ...                          \n4520909804            1            1  ...                    203   \n4524683257            0            0  ...                    219   \n4516672650            1            0  ...                    236   \n4523849056            1            0  ...                    249   \n4458560813            0            0  ...                    205   \n4525590476            1            1  ...                    210   \n4517904549            1            0  ...                    216   \n4480203372            0            0  ...                    191   \n4521318452            0            1  ...                    198   \n4524024822            1            1  ...                    165   \n\n            redTotalJungleMinionsKilled  redGoldDiff  redExperienceDiff  \\\ngameId                                                                    \n4520909804                           40        -2227              -2792   \n4524683257                           54         3346               1685   \n4516672650                           44         3426               2539   \n4523849056                           49          686                619   \n4458560813                           32        -1269               -788   \n4525590476                           42        -2008              -2714   \n4517904549                           51         1086                637   \n4480203372                           42        -4062              -2332   \n4521318452                           40         -545              -1033   \n4524024822                           36        -8027              -7621   \n\n            redCSPerMin  redGoldPerMin  whoWon  firstKill  blueFinalWards  \\\ngameId                                                                      \n4520909804         20.3         1544.2    blue       blue              38   \n4524683257         21.9         1847.1     red        red               8   \n4516672650         23.6         1812.1     red        red              13   \n4523849056         24.9         1620.4    blue       blue              22   \n4458560813         20.5         1640.5    blue       blue              16   \n4525590476         21.0         1552.9    blue       blue              13   \n4517904549         21.6         1672.2    blue        red              14   \n4480203372         19.1         1523.0     red        red              11   \n4521318452         19.8         1711.2    blue        red              15   \n4524024822         16.5         1283.3    blue       blue              11   \n\n            redFinalWards  \ngameId                     \n4520909804             12  \n4524683257             15  \n4516672650             16  \n4523849056             19  \n4458560813              9  \n4525590476             19  \n4517904549             38  \n4480203372             24  \n4521318452             14  \n4524024822              9  \n\n[10 rows x 43 columns]",
      "text/html": "<div>\n<style scoped>\n    .dataframe tbody tr th:only-of-type {\n        vertical-align: middle;\n    }\n\n    .dataframe tbody tr th {\n        vertical-align: top;\n    }\n\n    .dataframe thead th {\n        text-align: right;\n    }\n</style>\n<table border=\"1\" class=\"dataframe\">\n  <thead>\n    <tr style=\"text-align: right;\">\n      <th></th>\n      <th>blueWins</th>\n      <th>blueWardsPlaced</th>\n      <th>blueWardsDestroyed</th>\n      <th>blueFirstBlood</th>\n      <th>blueKills</th>\n      <th>blueDeaths</th>\n      <th>blueAssists</th>\n      <th>blueEliteMonsters</th>\n      <th>blueDragons</th>\n      <th>blueHeralds</th>\n      <th>...</th>\n      <th>redTotalMinionsKilled</th>\n      <th>redTotalJungleMinionsKilled</th>\n      <th>redGoldDiff</th>\n      <th>redExperienceDiff</th>\n      <th>redCSPerMin</th>\n      <th>redGoldPerMin</th>\n      <th>whoWon</th>\n      <th>firstKill</th>\n      <th>blueFinalWards</th>\n      <th>redFinalWards</th>\n    </tr>\n    <tr>\n      <th>gameId</th>\n      <th></th>\n      <th></th>\n      <th></th>\n      <th></th>\n      <th></th>\n      <th></th>\n      <th></th>\n      <th></th>\n      <th></th>\n      <th></th>\n      <th></th>\n      <th></th>\n      <th></th>\n      <th></th>\n      <th></th>\n      <th></th>\n      <th></th>\n      <th></th>\n      <th></th>\n      <th></th>\n      <th></th>\n    </tr>\n  </thead>\n  <tbody>\n    <tr>\n      <th>4520909804</th>\n      <td>1</td>\n      <td>40</td>\n      <td>3</td>\n      <td>1</td>\n      <td>9</td>\n      <td>5</td>\n      <td>3</td>\n      <td>2</td>\n      <td>1</td>\n      <td>1</td>\n      <td>...</td>\n      <td>203</td>\n      <td>40</td>\n      <td>-2227</td>\n      <td>-2792</td>\n      <td>20.3</td>\n      <td>1544.2</td>\n      <td>blue</td>\n      <td>blue</td>\n      <td>38</td>\n      <td>12</td>\n    </tr>\n    <tr>\n      <th>4524683257</th>\n      <td>0</td>\n      <td>12</td>\n      <td>3</td>\n      <td>0</td>\n      <td>4</td>\n      <td>7</td>\n      <td>2</td>\n      <td>0</td>\n      <td>0</td>\n      <td>0</td>\n      <td>...</td>\n      <td>219</td>\n      <td>54</td>\n      <td>3346</td>\n      <td>1685</td>\n      <td>21.9</td>\n      <td>1847.1</td>\n      <td>red</td>\n      <td>red</td>\n      <td>8</td>\n      <td>15</td>\n    </tr>\n    <tr>\n      <th>4516672650</th>\n      <td>0</td>\n      <td>14</td>\n      <td>0</td>\n      <td>0</td>\n      <td>2</td>\n      <td>9</td>\n      <td>2</td>\n      <td>1</td>\n      <td>1</td>\n      <td>0</td>\n      <td>...</td>\n      <td>236</td>\n      <td>44</td>\n      <td>3426</td>\n      <td>2539</td>\n      <td>23.6</td>\n      <td>1812.1</td>\n      <td>red</td>\n      <td>red</td>\n      <td>13</td>\n      <td>16</td>\n    </tr>\n    <tr>\n      <th>4523849056</th>\n      <td>1</td>\n      <td>26</td>\n      <td>2</td>\n      <td>1</td>\n      <td>5</td>\n      <td>4</td>\n      <td>8</td>\n      <td>1</td>\n      <td>1</td>\n      <td>0</td>\n      <td>...</td>\n      <td>249</td>\n      <td>49</td>\n      <td>686</td>\n      <td>619</td>\n      <td>24.9</td>\n      <td>1620.4</td>\n      <td>blue</td>\n      <td>blue</td>\n      <td>22</td>\n      <td>19</td>\n    </tr>\n    <tr>\n      <th>4458560813</th>\n      <td>1</td>\n      <td>18</td>\n      <td>2</td>\n      <td>1</td>\n      <td>10</td>\n      <td>7</td>\n      <td>13</td>\n      <td>0</td>\n      <td>0</td>\n      <td>0</td>\n      <td>...</td>\n      <td>205</td>\n      <td>32</td>\n      <td>-1269</td>\n      <td>-788</td>\n      <td>20.5</td>\n      <td>1640.5</td>\n      <td>blue</td>\n      <td>blue</td>\n      <td>16</td>\n      <td>9</td>\n    </tr>\n    <tr>\n      <th>4525590476</th>\n      <td>1</td>\n      <td>19</td>\n      <td>6</td>\n      <td>1</td>\n      <td>8</td>\n      <td>6</td>\n      <td>10</td>\n      <td>2</td>\n      <td>1</td>\n      <td>1</td>\n      <td>...</td>\n      <td>210</td>\n      <td>42</td>\n      <td>-2008</td>\n      <td>-2714</td>\n      <td>21.0</td>\n      <td>1552.9</td>\n      <td>blue</td>\n      <td>blue</td>\n      <td>13</td>\n      <td>19</td>\n    </tr>\n    <tr>\n      <th>4517904549</th>\n      <td>1</td>\n      <td>18</td>\n      <td>2</td>\n      <td>0</td>\n      <td>3</td>\n      <td>5</td>\n      <td>3</td>\n      <td>1</td>\n      <td>1</td>\n      <td>0</td>\n      <td>...</td>\n      <td>216</td>\n      <td>51</td>\n      <td>1086</td>\n      <td>637</td>\n      <td>21.6</td>\n      <td>1672.2</td>\n      <td>blue</td>\n      <td>red</td>\n      <td>14</td>\n      <td>38</td>\n    </tr>\n    <tr>\n      <th>4480203372</th>\n      <td>0</td>\n      <td>13</td>\n      <td>2</td>\n      <td>0</td>\n      <td>9</td>\n      <td>4</td>\n      <td>12</td>\n      <td>0</td>\n      <td>0</td>\n      <td>0</td>\n      <td>...</td>\n      <td>191</td>\n      <td>42</td>\n      <td>-4062</td>\n      <td>-2332</td>\n      <td>19.1</td>\n      <td>1523.0</td>\n      <td>red</td>\n      <td>red</td>\n      <td>11</td>\n      <td>24</td>\n    </tr>\n    <tr>\n      <th>4521318452</th>\n      <td>1</td>\n      <td>17</td>\n      <td>0</td>\n      <td>0</td>\n      <td>9</td>\n      <td>8</td>\n      <td>8</td>\n      <td>1</td>\n      <td>0</td>\n      <td>1</td>\n      <td>...</td>\n      <td>198</td>\n      <td>40</td>\n      <td>-545</td>\n      <td>-1033</td>\n      <td>19.8</td>\n      <td>1711.2</td>\n      <td>blue</td>\n      <td>red</td>\n      <td>15</td>\n      <td>14</td>\n    </tr>\n    <tr>\n      <th>4524024822</th>\n      <td>1</td>\n      <td>13</td>\n      <td>8</td>\n      <td>1</td>\n      <td>12</td>\n      <td>2</td>\n      <td>10</td>\n      <td>2</td>\n      <td>1</td>\n      <td>1</td>\n      <td>...</td>\n      <td>165</td>\n      <td>36</td>\n      <td>-8027</td>\n      <td>-7621</td>\n      <td>16.5</td>\n      <td>1283.3</td>\n      <td>blue</td>\n      <td>blue</td>\n      <td>11</td>\n      <td>9</td>\n    </tr>\n  </tbody>\n</table>\n<p>10 rows × 43 columns</p>\n</div>"
     },
     "metadata": {},
     "execution_count": 24
    }
   ],
   "source": [
    "# Your code here\n",
    "lol_data['blueFinalWards'] = lol_data.apply(lambda x: x['blueWardsPlaced'] - x['redWardsDestroyed'], axis = 1)\n",
    "lol_data['redFinalWards'] = lol_data.apply(lambda x: x['redWardsPlaced'] - x['blueWardsDestroyed'], axis = 1)\n",
    "lol_data.sample(10)"
   ]
  },
  {
   "cell_type": "markdown",
   "metadata": {},
   "source": [
    "## Task 4\n",
    "\n",
    "`[0.5]` Create two new columns: `blueMinionsKilledOutsideJungle` and `redMinionsKilledOutsideJungle` which is a difference of two specific columns in the dataset and save it to the variable `lol_data_updated`."
   ]
  },
  {
   "cell_type": "code",
   "execution_count": 29,
   "metadata": {},
   "outputs": [
    {
     "output_type": "execute_result",
     "data": {
      "text/plain": "            blueMinionsKilledOutsideJungle  redMinionsKilledOutsideJungle\ngameId                                                                   \n4419234240                             190                            198\n4497964264                             186                            191\n4482504692                             167                            164\n4516604848                             163                            201\n4481862687                             213                            145\n4516828940                             136                            142\n4525369607                             172                            152\n4469768643                             156                            191\n4502653498                             138                            172\n4489431595                             139                            162",
      "text/html": "<div>\n<style scoped>\n    .dataframe tbody tr th:only-of-type {\n        vertical-align: middle;\n    }\n\n    .dataframe tbody tr th {\n        vertical-align: top;\n    }\n\n    .dataframe thead th {\n        text-align: right;\n    }\n</style>\n<table border=\"1\" class=\"dataframe\">\n  <thead>\n    <tr style=\"text-align: right;\">\n      <th></th>\n      <th>blueMinionsKilledOutsideJungle</th>\n      <th>redMinionsKilledOutsideJungle</th>\n    </tr>\n    <tr>\n      <th>gameId</th>\n      <th></th>\n      <th></th>\n    </tr>\n  </thead>\n  <tbody>\n    <tr>\n      <th>4419234240</th>\n      <td>190</td>\n      <td>198</td>\n    </tr>\n    <tr>\n      <th>4497964264</th>\n      <td>186</td>\n      <td>191</td>\n    </tr>\n    <tr>\n      <th>4482504692</th>\n      <td>167</td>\n      <td>164</td>\n    </tr>\n    <tr>\n      <th>4516604848</th>\n      <td>163</td>\n      <td>201</td>\n    </tr>\n    <tr>\n      <th>4481862687</th>\n      <td>213</td>\n      <td>145</td>\n    </tr>\n    <tr>\n      <th>4516828940</th>\n      <td>136</td>\n      <td>142</td>\n    </tr>\n    <tr>\n      <th>4525369607</th>\n      <td>172</td>\n      <td>152</td>\n    </tr>\n    <tr>\n      <th>4469768643</th>\n      <td>156</td>\n      <td>191</td>\n    </tr>\n    <tr>\n      <th>4502653498</th>\n      <td>138</td>\n      <td>172</td>\n    </tr>\n    <tr>\n      <th>4489431595</th>\n      <td>139</td>\n      <td>162</td>\n    </tr>\n  </tbody>\n</table>\n</div>"
     },
     "metadata": {},
     "execution_count": 29
    }
   ],
   "source": [
    "# Your code here\n",
    "lol_data['blueMinionsKilledOutsideJungle'] = lol_data.apply(\n",
    "    lambda x: x['blueTotalMinionsKilled'] - x['blueTotalJungleMinionsKilled'], axis = 1)\n",
    "lol_data['redMinionsKilledOutsideJungle'] = lol_data.apply(\n",
    "    lambda x: x['redTotalMinionsKilled'] - x['redTotalJungleMinionsKilled'], axis = 1)\n",
    "lol_data_update = lol_data.loc[:,\n",
    "    ['blueMinionsKilledOutsideJungle', 'redMinionsKilledOutsideJungle']]\n",
    "lol_data_update.sample(10)"
   ]
  },
  {
   "cell_type": "markdown",
   "metadata": {},
   "source": [
    "`[0.5]` Remove the following columns: `blueTotalMinionsKilled`, `redTotalMinionsKilled`, `blueTotalJungleMinionsKilled`, `redTotalJungleMinionsKilled` and save this to the previous variable."
   ]
  },
  {
   "cell_type": "code",
   "execution_count": 32,
   "metadata": {},
   "outputs": [
    {
     "output_type": "execute_result",
     "data": {
      "text/plain": "            blueMinionsKilledOutsideJungle  redMinionsKilledOutsideJungle\ngameId                                                                   \n4524024822                             609                            387\n4495106153                             432                            549\n4478440823                             645                            447\n4520783162                             570                            591\n4520650822                             531                            579\n4477806643                             540                            372\n4451773620                             588                            552\n4515763607                             378                            528\n4508671448                             399                            558\n4508148812                             531                            390",
      "text/html": "<div>\n<style scoped>\n    .dataframe tbody tr th:only-of-type {\n        vertical-align: middle;\n    }\n\n    .dataframe tbody tr th {\n        vertical-align: top;\n    }\n\n    .dataframe thead th {\n        text-align: right;\n    }\n</style>\n<table border=\"1\" class=\"dataframe\">\n  <thead>\n    <tr style=\"text-align: right;\">\n      <th></th>\n      <th>blueMinionsKilledOutsideJungle</th>\n      <th>redMinionsKilledOutsideJungle</th>\n    </tr>\n    <tr>\n      <th>gameId</th>\n      <th></th>\n      <th></th>\n    </tr>\n  </thead>\n  <tbody>\n    <tr>\n      <th>4524024822</th>\n      <td>609</td>\n      <td>387</td>\n    </tr>\n    <tr>\n      <th>4495106153</th>\n      <td>432</td>\n      <td>549</td>\n    </tr>\n    <tr>\n      <th>4478440823</th>\n      <td>645</td>\n      <td>447</td>\n    </tr>\n    <tr>\n      <th>4520783162</th>\n      <td>570</td>\n      <td>591</td>\n    </tr>\n    <tr>\n      <th>4520650822</th>\n      <td>531</td>\n      <td>579</td>\n    </tr>\n    <tr>\n      <th>4477806643</th>\n      <td>540</td>\n      <td>372</td>\n    </tr>\n    <tr>\n      <th>4451773620</th>\n      <td>588</td>\n      <td>552</td>\n    </tr>\n    <tr>\n      <th>4515763607</th>\n      <td>378</td>\n      <td>528</td>\n    </tr>\n    <tr>\n      <th>4508671448</th>\n      <td>399</td>\n      <td>558</td>\n    </tr>\n    <tr>\n      <th>4508148812</th>\n      <td>531</td>\n      <td>390</td>\n    </tr>\n  </tbody>\n</table>\n</div>"
     },
     "metadata": {},
     "execution_count": 32
    }
   ],
   "source": [
    "# Your code here\n",
    "lol_data_update += lol_data.drop([\n",
    "    'blueTotalMinionsKilled', \n",
    "    'redTotalMinionsKilled', \n",
    "    'blueTotalJungleMinionsKilled', \n",
    "    'redTotalJungleMinionsKilled'\n",
    "], axis = 1)\n",
    "lol_data_update.sample(10)"
   ]
  },
  {
   "cell_type": "markdown",
   "metadata": {},
   "source": [
    "## Task 5\n",
    "\n",
    "`[0.8]` Create a new variable `lol_data_group` where you groupby `whoWon` and `firstKill`, with the following aggregations:\n",
    "\n",
    "- `blueTotalGold` - sum\n",
    "- `redTotalGold` -  sum\n",
    "- `blueKills` - mean\n",
    "- `redKills` - mean\n",
    "- `blueGoldPerMin` - max\n",
    "- `redGoldPerMin` - min"
   ]
  },
  {
   "cell_type": "code",
   "execution_count": 44,
   "metadata": {},
   "outputs": [
    {
     "output_type": "execute_result",
     "data": {
      "text/plain": "                 blueTotalGold redTotalGold blueKills  redKills  \\\n                           sum          sum      mean      mean   \nwhoWon firstKill                                                  \nblue   red            32473220     31667955  6.462687  5.832733   \nred    red            45895158     51216382  4.641573  7.556799   \n       blue           32616328     33417347  5.949500  6.503500   \nblue   blue           52052931     46593556  7.682290  4.689990   \n\n                 blueGoldPerMin redGoldPerMin  \n                            max           min  \nwhoWon firstKill                               \nblue   red               2327.8        1317.3  \nred    red               2088.7        1378.9  \n       blue              2105.5        1289.1  \nblue   blue              2370.1        1121.2  ",
      "text/html": "<div>\n<style scoped>\n    .dataframe tbody tr th:only-of-type {\n        vertical-align: middle;\n    }\n\n    .dataframe tbody tr th {\n        vertical-align: top;\n    }\n\n    .dataframe thead tr th {\n        text-align: left;\n    }\n\n    .dataframe thead tr:last-of-type th {\n        text-align: right;\n    }\n</style>\n<table border=\"1\" class=\"dataframe\">\n  <thead>\n    <tr>\n      <th></th>\n      <th></th>\n      <th>blueTotalGold</th>\n      <th>redTotalGold</th>\n      <th>blueKills</th>\n      <th>redKills</th>\n      <th>blueGoldPerMin</th>\n      <th>redGoldPerMin</th>\n    </tr>\n    <tr>\n      <th></th>\n      <th></th>\n      <th>sum</th>\n      <th>sum</th>\n      <th>mean</th>\n      <th>mean</th>\n      <th>max</th>\n      <th>min</th>\n    </tr>\n    <tr>\n      <th>whoWon</th>\n      <th>firstKill</th>\n      <th></th>\n      <th></th>\n      <th></th>\n      <th></th>\n      <th></th>\n      <th></th>\n    </tr>\n  </thead>\n  <tbody>\n    <tr>\n      <th>blue</th>\n      <th>red</th>\n      <td>32473220</td>\n      <td>31667955</td>\n      <td>6.462687</td>\n      <td>5.832733</td>\n      <td>2327.8</td>\n      <td>1317.3</td>\n    </tr>\n    <tr>\n      <th rowspan=\"2\" valign=\"top\">red</th>\n      <th>red</th>\n      <td>45895158</td>\n      <td>51216382</td>\n      <td>4.641573</td>\n      <td>7.556799</td>\n      <td>2088.7</td>\n      <td>1378.9</td>\n    </tr>\n    <tr>\n      <th>blue</th>\n      <td>32616328</td>\n      <td>33417347</td>\n      <td>5.949500</td>\n      <td>6.503500</td>\n      <td>2105.5</td>\n      <td>1289.1</td>\n    </tr>\n    <tr>\n      <th>blue</th>\n      <th>blue</th>\n      <td>52052931</td>\n      <td>46593556</td>\n      <td>7.682290</td>\n      <td>4.689990</td>\n      <td>2370.1</td>\n      <td>1121.2</td>\n    </tr>\n  </tbody>\n</table>\n</div>"
     },
     "metadata": {},
     "execution_count": 44
    }
   ],
   "source": [
    "# Your code here\n",
    "lol_data_group = lol_data.groupby([\n",
    "    'whoWon', \n",
    "    'firstKill'\n",
    "]).agg({\n",
    "    'blueTotalGold': ['sum'],\n",
    "    'redTotalGold': ['sum'],\n",
    "    'blueKills': ['mean'],\n",
    "    'redKills': ['mean'],\n",
    "    'blueGoldPerMin': ['max'],\n",
    "    'redGoldPerMin': ['min']     \n",
    "})\n",
    "lol_data_group.sample(4)"
   ]
  },
  {
   "cell_type": "markdown",
   "metadata": {},
   "source": [
    "`[0.2]` **Rename** (use good function here) the columns of `lol_data_group` to `blueTotalGoldSum`, `redTotalGoldSum`, `blueKillsMean`, `redKillsMean`, `blueGoldPerMinMax`, `redGoldPerMinMin`."
   ]
  },
  {
   "cell_type": "code",
   "execution_count": 17,
   "metadata": {},
   "outputs": [],
   "source": [
    "# Your code here\n"
   ]
  },
  {
   "cell_type": "markdown",
   "metadata": {},
   "source": [
    "## Task 6\n",
    "\n",
    "`[1.0]` Melt the DataFrame where the id variables are the index and value vars are `blueHeralds`, `redHeralds`, `blueDragons`, `redDragons`, `blueEliteMonsters` and `redEliteMonsters`. Save the result as `lol_data_melt`.\n",
    "\n",
    "*Hint: you can use `reset_index()` to achieve a correct melt.*"
   ]
  },
  {
   "cell_type": "code",
   "execution_count": 18,
   "metadata": {},
   "outputs": [],
   "source": [
    "# Your code here"
   ]
  },
  {
   "cell_type": "markdown",
   "metadata": {},
   "source": [
    "## Task 7\n",
    "\n",
    "`[1.0]` Create a seaborn `barplot` of the `lol_data_melt` where `x` is the variable, and `y` is the value."
   ]
  },
  {
   "cell_type": "code",
   "execution_count": 19,
   "metadata": {},
   "outputs": [],
   "source": [
    "# Your code here"
   ]
  },
  {
   "cell_type": "markdown",
   "metadata": {},
   "source": [
    "## Task 8\n",
    "\n",
    "`[1.0]` Create a seaborn `scatterplot` of `lol_data`.\n",
    "\n",
    "- For `x` select `blueGoldPerMin`,\n",
    "- For `y` select `redGoldPerMin`, \n",
    "- Color the graph by `whoWon`,\n",
    "- Change dots to be different based on `firstKill` (dots and crosses)."
   ]
  },
  {
   "cell_type": "code",
   "execution_count": 20,
   "metadata": {},
   "outputs": [],
   "source": [
    "# Your code here"
   ]
  },
  {
   "cell_type": "markdown",
   "metadata": {},
   "source": [
    "## Task 9\n",
    "\n",
    "`[0.5]` Create a horizontal `matplotlib` subplot that holds two distribution plots using seaborn for `lol_data`: `redCSPerMin` and `blueCSPerMin`."
   ]
  },
  {
   "cell_type": "code",
   "execution_count": 21,
   "metadata": {},
   "outputs": [],
   "source": [
    "# Your code here"
   ]
  },
  {
   "cell_type": "markdown",
   "metadata": {},
   "source": [
    "`[0.5]` Create a seaborn `boxplot` using `lol_data` for the `blueAvgLevel` column depending on `whoWon`."
   ]
  },
  {
   "cell_type": "code",
   "execution_count": 22,
   "metadata": {},
   "outputs": [],
   "source": [
    "# Your code here"
   ]
  },
  {
   "cell_type": "markdown",
   "metadata": {},
   "source": [
    "## Task 10\n",
    "\n",
    "`[1.0]` Create a triangle (half square) seaborn `clustermap` of the `lol_data` correlations.\n",
    "\n",
    "- Change the color palette to \"mako\"\n",
    "\n",
    "*Hint: You can check stack overflow how to create masks using `numpy`.*"
   ]
  },
  {
   "cell_type": "code",
   "execution_count": 23,
   "metadata": {},
   "outputs": [],
   "source": [
    "# Your code here"
   ]
  }
 ],
 "metadata": {
  "kernelspec": {
   "display_name": "Python 3.8.3 32-bit",
   "language": "python",
   "name": "python38332bit088709f87d73420ba033def56da6d20e"
  },
  "language_info": {
   "codemirror_mode": {
    "name": "ipython",
    "version": 3
   },
   "file_extension": ".py",
   "mimetype": "text/x-python",
   "name": "python",
   "nbconvert_exporter": "python",
   "pygments_lexer": "ipython3",
   "version": "3.8.3-final"
  }
 },
 "nbformat": 4,
 "nbformat_minor": 4
}